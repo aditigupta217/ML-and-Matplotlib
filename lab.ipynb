{
 "cells": [
  {
   "cell_type": "code",
   "execution_count": 4,
   "id": "75b160b7-97fe-46d2-8cc5-ee100c3163ac",
   "metadata": {},
   "outputs": [],
   "source": [
    "### ML part 1 , project\n"
   ]
  },
  {
   "cell_type": "code",
   "execution_count": 2,
   "id": "ba2e86a3-a4aa-436c-b8e9-ad37806605b7",
   "metadata": {},
   "outputs": [
    {
     "name": "stdout",
     "output_type": "stream",
     "text": [
      "Mean Absolute Error (MAE): 2.7341306998343784\n",
      "Mean Squared Error (MSE): 10.705683511276508\n",
      "Root Mean Squared Error (RMSE): 3.2719540814743273\n"
     ]
    },
    {
     "data": {
      "image/png": "[encoded data removed]",
      "text/plain": [
       "<Figure size 640x480 with 1 Axes>"
      ]
     },
     "metadata": {},
     "output_type": "display_data"
    }
   ],
   "source": [
    "import pandas as pd\n",
    "import numpy as np\n",
    "import matplotlib.pyplot as plt\n",
    "from sklearn.metrics import mean_absolute_error, mean_squared_error, r2_score\n",
    "from sklearn.linear_model import LinearRegression\n",
    "\n",
    "# Load dataset\n",
    "data = pd.read_csv(\"student_data.csv\")\n",
    "\n",
    "# Features and target\n",
    "X = data[['studytime']]\n",
    "y = data['G1']\n",
    "\n",
    "# Train Linear Regression model\n",
    "model = LinearRegression()\n",
    "model.fit(X, y)\n",
    "\n",
    "# Predictions\n",
    "predicted_score = model.predict(X)\n",
    "\n",
    "# Error metrics\n",
    "mae = mean_absolute_error(y, predicted_score)\n",
    "mse = mean_squared_error(y, predicted_score)\n",
    "rmse = np.sqrt(mse)\n",
    "\n",
    "print(\"Mean Absolute Error (MAE):\", mae)\n",
    "print(\"Mean Squared Error (MSE):\", mse)\n",
    "print(\"Root Mean Squared Error (RMSE):\", rmse)\n",
    "\n",
    "# Optional: plot\n",
    "plt.scatter(X, y, color=\"blue\", label=\"Actual\")\n",
    "plt.plot(X, predicted_score, color=\"red\", label=\"Predicted\")\n",
    "plt.xlabel(\"Study Time\")\n",
    "plt.ylabel(\"G1 Score\")\n",
    "plt.legend()\n",
    "plt.show()\n",
    "\n"
   ]
  },
  {
   "cell_type": "code",
   "execution_count": 3,
   "id": "c96c476f-786f-4cdc-a834-63956702e831",
   "metadata": {},
   "outputs": [
    {
     "name": "stdout",
     "output_type": "stream",
     "text": [
      "Raw DataFrame:\n",
      "   id    name   position   salary\n",
      "0   1   Aditi    Manager  70000.0\n",
      "1   2  nikita  Developer  50000.0\n",
      "2   3     Ram  Developer      NaN\n",
      "3   4    None         HR  45000.0\n",
      "4   2  Krrish  Developer  50000.0\n",
      "\n",
      "DataFrame without duplicates:\n",
      "   id    name   position   salary\n",
      "0   1   Aditi    Manager  70000.0\n",
      "1   2  nikita  Developer  50000.0\n",
      "2   3     Ram  Developer      NaN\n",
      "3   4    None         HR  45000.0\n",
      "4   2  Krrish  Developer  50000.0\n"
     ]
    }
   ],
   "source": [
    "import sqlite3\n",
    "import pandas as pd\n",
    "\n",
    "conn = sqlite3.connect(\":memory:\")\n",
    "cursor = conn.cursor()\n",
    "\n",
    "cursor.execute(\"\"\"\n",
    "CREATE TABLE Employee(\n",
    "    id INTEGER,\n",
    "    name TEXT,\n",
    "    position TEXT,\n",
    "    salary REAL\n",
    ")\n",
    "\"\"\")\n",
    "\n",
    "data = [\n",
    "    (1, \"Aditi\", \"Manager\", 70000),\n",
    "    (2, \"nikita\", \"Developer\", 50000),\n",
    "    (3, \"Ram\", \"Developer\", None),   \n",
    "    (4, None, \"HR\", 45000),             \n",
    "    (2, \"Krrish\", \"Developer\", 50000),    \n",
    "]\n",
    "cursor.executemany(\"INSERT INTO Employee VALUES (?, ?, ?, ?)\", data)\n",
    "conn.commit()\n",
    "\n",
    "df = pd.read_sql(\"SELECT * FROM Employee\", conn)\n",
    "\n",
    "print(\"Raw DataFrame:\")\n",
    "print(df)\n",
    "\n",
    "df_cleaned = df.drop_duplicates()\n",
    "\n",
    "print(\"\\nDataFrame without duplicates:\")\n",
    "print(df_cleaned)\n"
   ]
  },
  {
   "cell_type": "code",
   "execution_count": 4,
   "id": "e254f519-62a5-498a-b03a-aeeae61f850d",
   "metadata": {},
   "outputs": [
    {
     "name": "stdout",
     "output_type": "stream",
     "text": [
      "Raw DataFrame:\n",
      "   id    name   position   salary\n",
      "0   1   Aditi    Manager  70000.0\n",
      "1   2  nikita  Developer  50000.0\n",
      "2   3     Ram  Developer      NaN\n",
      "3   4    None         HR  45000.0\n",
      "4   2  Krrish  Developer  50000.0\n",
      "\n",
      "Without duplicates:\n",
      "   id    name   position   salary\n",
      "0   1   Aditi    Manager  70000.0\n",
      "1   2  nikita  Developer  50000.0\n",
      "2   3     Ram  Developer      NaN\n",
      "3   4    None         HR  45000.0\n",
      "4   2  Krrish  Developer  50000.0\n",
      "\n",
      "Drop rows with NULL values:\n",
      "   id    name   position   salary\n",
      "0   1   Aditi    Manager  70000.0\n",
      "1   2  nikita  Developer  50000.0\n",
      "4   2  Krrish  Developer  50000.0\n",
      "\n",
      "Fill missing values:\n",
      "   id     name   position   salary\n",
      "0   1    Aditi    Manager  70000.0\n",
      "1   2   nikita  Developer  50000.0\n",
      "2   3      Ram  Developer      0.0\n",
      "3   4  Unknown         HR  45000.0\n",
      "4   2   Krrish  Developer  50000.0\n"
     ]
    }
   ],
   "source": [
    "\n",
    "df = pd.read_sql(\"SELECT * FROM Employee\", conn)\n",
    "\n",
    "print(\"Raw DataFrame:\")\n",
    "print(df)\n",
    "\n",
    "df_no_dupes = df.drop_duplicates()\n",
    "\n",
    "df_dropna = df_no_dupes.dropna()\n",
    "\n",
    "df_filled = df_no_dupes.fillna({\"name\": \"Unknown\", \"salary\": 0})\n",
    "\n",
    "print(\"\\nWithout duplicates:\")\n",
    "print(df_no_dupes)\n",
    "\n",
    "print(\"\\nDrop rows with NULL values:\")\n",
    "print(df_dropna)\n",
    "\n",
    "print(\"\\nFill missing values:\")\n",
    "print(df_filled)\n"
   ]
  },
  {
   "cell_type": "code",
   "execution_count": 6,
   "id": "91346cef-d334-452b-b414-0460d55f1d7e",
   "metadata": {},
   "outputs": [
    {
     "name": "stdout",
     "output_type": "stream",
     "text": [
      "SQLite DataFrame:\n",
      "   id    name   position   salary\n",
      "0   1   Aditi    Manager  70000.0\n",
      "1   2  nikita  Developer  50000.0\n",
      "2   3     Ram  Developer      NaN\n",
      "3   4    None         HR  45000.0\n",
      "4   2  Krrish  Developer  50000.0\n",
      "\n",
      "MySQL DataFrame:\n",
      "   id  name  position  salary\n",
      "0   5  Diya    Tester   40000\n",
      "1   6  Riya  Designer   55000\n",
      "\n",
      "Merged DataFrame:\n",
      "   id    name   position   salary\n",
      "0   1   Aditi    Manager  70000.0\n",
      "1   2  nikita  Developer  50000.0\n",
      "2   3     Ram  Developer      NaN\n",
      "3   4    None         HR  45000.0\n",
      "4   2  Krrish  Developer  50000.0\n",
      "5   5    Diya     Tester  40000.0\n",
      "6   6    Riya   Designer  55000.0\n"
     ]
    }
   ],
   "source": [
    "\n",
    "df_sqlite = pd.read_sql(\"SELECT * FROM Employee\", conn)\n",
    "\n",
    "df_mysql = pd.DataFrame({\n",
    "    \"id\": [5, 6],\n",
    "    \"name\": [\"Diya\", \"Riya\"],\n",
    "    \"position\": [\"Tester\", \"Designer\"],\n",
    "    \"salary\": [40000, 55000]\n",
    "})\n",
    "\n",
    "print(\"SQLite DataFrame:\")\n",
    "print(df_sqlite)\n",
    "\n",
    "print(\"\\nMySQL DataFrame:\")\n",
    "print(df_mysql)\n",
    "\n",
    "df_merged = pd.concat([df_sqlite, df_mysql], ignore_index=True)\n",
    "\n",
    "print(\"\\nMerged DataFrame:\")\n",
    "print(df_merged)\n"
   ]
  },
  {
   "cell_type": "code",
   "execution_count": null,
   "id": "4dec5eab-fe91-4cd2-9321-7ce3df600e29",
   "metadata": {},
   "outputs": [],
   "source": []
  }
 ],
 "metadata": {
  "kernelspec": {
   "display_name": "anaconda-panel-2023.05-py310",
   "language": "python",
   "name": "conda-env-anaconda-panel-2023.05-py310-py"
  },
  "language_info": {
   "codemirror_mode": {
    "name": "ipython",
    "version": 3
   },
   "file_extension": ".py",
   "mimetype": "text/x-python",
   "name": "python",
   "nbconvert_exporter": "python",
   "pygments_lexer": "ipython3",
   "version": "3.11.5"
  }
 },
 "nbformat": 4,
 "nbformat_minor": 5
}
